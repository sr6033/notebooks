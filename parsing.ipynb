{
 "cells": [
  {
   "cell_type": "code",
   "execution_count": 3,
   "metadata": {},
   "outputs": [],
   "source": [
    "import re\n",
    "import pandas as pd\n",
    "import numpy as np"
   ]
  },
  {
   "cell_type": "code",
   "execution_count": null,
   "metadata": {},
   "outputs": [],
   "source": [
    "policy_no = re.compile(r'(Policy Number:.*([A-Z].*)\\n)|(.*\\sPolicy.*(A.*)\\n)|(Policy No:.*(A.*)\\n)')\n"
   ]
  },
  {
   "cell_type": "code",
   "execution_count": 45,
   "metadata": {},
   "outputs": [],
   "source": [
    "policy_no = {\n",
    "    0: re.compile(r'Policy Number:.*([A-Z].*)'),\n",
    "    1: re.compile(r'.*\\sPolicy.*(A.*)'),\n",
    "    2: re.compile(r'Policy No:.*(A.*)')\n",
    "}"
   ]
  },
  {
   "cell_type": "code",
   "execution_count": 53,
   "metadata": {},
   "outputs": [
    {
     "data": {
      "text/plain": [
       "['Policy Number:      AV1700005',\n",
       " 'Renewing Policy     AV1630802',\n",
       " 'Policy No: AV1700005']"
      ]
     },
     "execution_count": 53,
     "metadata": {},
     "output_type": "execute_result"
    }
   ],
   "source": [
    "file = ''\n",
    "policy_list = []\n",
    "with open('out.txt') as file:\n",
    "    # file = file.read()\n",
    "    line = file.readline()\n",
    "    while line:\n",
    "        for i in range(3):\n",
    "            match = policy_no[i].search(line)\n",
    "            if match:\n",
    "                policy_list.append(match.group(0))\n",
    "        line = file.readline()\n",
    "policy_list"
   ]
  },
  {
   "cell_type": "code",
   "execution_count": null,
   "metadata": {},
   "outputs": [],
   "source": []
  },
  {
   "cell_type": "code",
   "execution_count": null,
   "metadata": {},
   "outputs": [],
   "source": []
  }
 ],
 "metadata": {
  "kernelspec": {
   "display_name": ".env_Python_3",
   "language": "python",
   "name": ".env_python_3"
  },
  "language_info": {
   "codemirror_mode": {
    "name": "ipython",
    "version": 3
   },
   "file_extension": ".py",
   "mimetype": "text/x-python",
   "name": "python",
   "nbconvert_exporter": "python",
   "pygments_lexer": "ipython3",
   "version": "3.7.2"
  }
 },
 "nbformat": 4,
 "nbformat_minor": 2
}
